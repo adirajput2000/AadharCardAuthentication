{
 "cells": [
  {
   "cell_type": "markdown",
   "id": "7d267da1",
   "metadata": {},
   "source": [
    "# Import Selenium and Web Manager"
   ]
  },
  {
   "cell_type": "code",
   "execution_count": 2,
   "id": "d3b2eef0",
   "metadata": {},
   "outputs": [
    {
     "name": "stdout",
     "output_type": "stream",
     "text": [
      "Requirement already satisfied: selenium in c:\\users\\adityatomar\\anaconda3\\lib\\site-packages (4.1.3)\n",
      "Requirement already satisfied: trio~=0.17 in c:\\users\\adityatomar\\anaconda3\\lib\\site-packages (from selenium) (0.20.0)\n",
      "Requirement already satisfied: urllib3[secure,socks]~=1.26 in c:\\users\\adityatomar\\anaconda3\\lib\\site-packages (from selenium) (1.26.7)\n",
      "Requirement already satisfied: trio-websocket~=0.9 in c:\\users\\adityatomar\\anaconda3\\lib\\site-packages (from selenium) (0.9.2)\n",
      "Requirement already satisfied: idna in c:\\users\\adityatomar\\anaconda3\\lib\\site-packages (from trio~=0.17->selenium) (3.2)\n",
      "Requirement already satisfied: outcome in c:\\users\\adityatomar\\anaconda3\\lib\\site-packages (from trio~=0.17->selenium) (1.1.0)\n",
      "Requirement already satisfied: sniffio in c:\\users\\adityatomar\\anaconda3\\lib\\site-packages (from trio~=0.17->selenium) (1.2.0)\n",
      "Requirement already satisfied: async-generator>=1.9 in c:\\users\\adityatomar\\anaconda3\\lib\\site-packages (from trio~=0.17->selenium) (1.10)\n",
      "Requirement already satisfied: attrs>=19.2.0 in c:\\users\\adityatomar\\anaconda3\\lib\\site-packages (from trio~=0.17->selenium) (21.2.0)\n",
      "Requirement already satisfied: cffi>=1.14 in c:\\users\\adityatomar\\anaconda3\\lib\\site-packages (from trio~=0.17->selenium) (1.14.6)\n",
      "Requirement already satisfied: sortedcontainers in c:\\users\\adityatomar\\anaconda3\\lib\\site-packages (from trio~=0.17->selenium) (2.4.0)\n",
      "Requirement already satisfied: pycparser in c:\\users\\adityatomar\\anaconda3\\lib\\site-packages (from cffi>=1.14->trio~=0.17->selenium) (2.20)\n",
      "Requirement already satisfied: wsproto>=0.14 in c:\\users\\adityatomar\\anaconda3\\lib\\site-packages (from trio-websocket~=0.9->selenium) (1.1.0)\n",
      "Requirement already satisfied: pyOpenSSL>=0.14 in c:\\users\\adityatomar\\anaconda3\\lib\\site-packages (from urllib3[secure,socks]~=1.26->selenium) (21.0.0)\n",
      "Requirement already satisfied: cryptography>=1.3.4 in c:\\users\\adityatomar\\anaconda3\\lib\\site-packages (from urllib3[secure,socks]~=1.26->selenium) (3.4.8)\n",
      "Requirement already satisfied: certifi in c:\\users\\adityatomar\\anaconda3\\lib\\site-packages (from urllib3[secure,socks]~=1.26->selenium) (2021.10.8)\n",
      "Requirement already satisfied: PySocks!=1.5.7,<2.0,>=1.5.6 in c:\\users\\adityatomar\\anaconda3\\lib\\site-packages (from urllib3[secure,socks]~=1.26->selenium) (1.7.1)\n",
      "Requirement already satisfied: six>=1.5.2 in c:\\users\\adityatomar\\anaconda3\\lib\\site-packages (from pyOpenSSL>=0.14->urllib3[secure,socks]~=1.26->selenium) (1.16.0)\n",
      "Requirement already satisfied: h11<1,>=0.9.0 in c:\\users\\adityatomar\\anaconda3\\lib\\site-packages (from wsproto>=0.14->trio-websocket~=0.9->selenium) (0.13.0)\n",
      "Note: you may need to restart the kernel to use updated packages.\n"
     ]
    }
   ],
   "source": [
    "pip install selenium"
   ]
  },
  {
   "cell_type": "code",
   "execution_count": 3,
   "id": "f893d6b3",
   "metadata": {},
   "outputs": [
    {
     "name": "stdout",
     "output_type": "stream",
     "text": [
      "Requirement already satisfied: webdriver-manager in c:\\users\\adityatomar\\anaconda3\\lib\\site-packages (3.5.4)\n",
      "Requirement already satisfied: requests in c:\\users\\adityatomar\\anaconda3\\lib\\site-packages (from webdriver-manager) (2.26.0)\n",
      "Requirement already satisfied: idna<4,>=2.5 in c:\\users\\adityatomar\\anaconda3\\lib\\site-packages (from requests->webdriver-manager) (3.2)\n",
      "Requirement already satisfied: charset-normalizer~=2.0.0 in c:\\users\\adityatomar\\anaconda3\\lib\\site-packages (from requests->webdriver-manager) (2.0.4)\n",
      "Requirement already satisfied: certifi>=2017.4.17 in c:\\users\\adityatomar\\anaconda3\\lib\\site-packages (from requests->webdriver-manager) (2021.10.8)\n",
      "Requirement already satisfied: urllib3<1.27,>=1.21.1 in c:\\users\\adityatomar\\anaconda3\\lib\\site-packages (from requests->webdriver-manager) (1.26.7)\n",
      "Note: you may need to restart the kernel to use updated packages.\n"
     ]
    }
   ],
   "source": [
    "pip install webdriver-manager"
   ]
  },
  {
   "cell_type": "markdown",
   "id": "ea349582",
   "metadata": {},
   "source": [
    "# Import other libraries and Packages"
   ]
  },
  {
   "cell_type": "code",
   "execution_count": 1,
   "id": "1141d3a4",
   "metadata": {},
   "outputs": [],
   "source": [
    "from selenium import webdriver\n",
    "from selenium.webdriver.support.ui import WebDriverWait\n",
    "from selenium.webdriver.support import expected_conditions as EC\n",
    "from selenium.webdriver.common.by import By\n",
    "from selenium.common.exceptions import TimeoutException\n",
    "from selenium.webdriver.chrome.service import Service\n",
    "from webdriver_manager.chrome import ChromeDriverManager\n",
    "import urllib.request\n",
    "from PIL import Image\n",
    "from selenium.webdriver.common.by import By\n",
    "from selenium import webdriver\n",
    "import time"
   ]
  },
  {
   "cell_type": "markdown",
   "id": "dd000839",
   "metadata": {},
   "source": [
    "# Load the website"
   ]
  },
  {
   "cell_type": "code",
   "execution_count": 60,
   "id": "e111c375",
   "metadata": {
    "scrolled": true
   },
   "outputs": [
    {
     "name": "stderr",
     "output_type": "stream",
     "text": [
      "\n",
      "\n",
      "====== WebDriver manager ======\n",
      "Current google-chrome version is 100.0.4896\n",
      "Get LATEST chromedriver version for 100.0.4896 google-chrome\n",
      "Driver [C:\\Users\\adityatomar\\.wdm\\drivers\\chromedriver\\win32\\100.0.4896.60\\chromedriver.exe] found in cache\n"
     ]
    }
   ],
   "source": [
    "try:\n",
    "    begin = time.time()\n",
    "    options = webdriver.ChromeOptions()\n",
    "    options.add_argument('-headless')\n",
    "    s=Service(ChromeDriverManager().install())\n",
    "    driver = webdriver.Chrome(service=s,options=options)\n",
    "    driver.get('https://myaadhaar.uidai.gov.in/verifyAadhaar')\n",
    "except:\n",
    "    print(\"Found Error!\")\n",
    "    driver.close()"
   ]
  },
  {
   "cell_type": "markdown",
   "id": "9a66665d",
   "metadata": {},
   "source": [
    "# Time taken to load"
   ]
  },
  {
   "cell_type": "code",
   "execution_count": 61,
   "id": "cb619195",
   "metadata": {},
   "outputs": [
    {
     "name": "stdout",
     "output_type": "stream",
     "text": [
      "8.46260404586792\n"
     ]
    }
   ],
   "source": [
    "end = time.time()\n",
    "print(end-begin)"
   ]
  },
  {
   "cell_type": "markdown",
   "id": "cdadc33f",
   "metadata": {},
   "source": [
    "# Enter Aadhar Number"
   ]
  },
  {
   "cell_type": "code",
   "execution_count": 62,
   "id": "def03940",
   "metadata": {},
   "outputs": [],
   "source": [
    "aadhar_no = driver.find_element(by=By.XPATH, value='/html/body/div[1]/div/div[3]/div/div/div[1]/div/form/div/div[1]/div/div/div/input')\n",
    "aadhar_nos = driver.find_element(by=By.XPATH, value = '/html/body/div[1]/div/div[3]/div/div/div[1]/div/form/div/div[2]/div[2]/img')\n",
    "aadhar_no1 = driver.find_element(by=By.XPATH, value= '/html/body/div[1]/div/div[3]/div/div/div[1]/div/form/div/div[2]/div[1]/div/div/div/input')\n",
    "aadhar_no.send_keys('861807950586')"
   ]
  },
  {
   "cell_type": "markdown",
   "id": "7a886765",
   "metadata": {},
   "source": [
    "# Wait for Captcha"
   ]
  },
  {
   "cell_type": "code",
   "execution_count": 64,
   "id": "4b839467",
   "metadata": {},
   "outputs": [
    {
     "data": {
      "image/png": "[encoded data removed]",
      "text/plain": [
       "<PIL.JpegImagePlugin.JpegImageFile image mode=RGB size=180x50 at 0x1A57443C7C0>"
      ]
     },
     "execution_count": 64,
     "metadata": {},
     "output_type": "execute_result"
    }
   ],
   "source": [
    "value = aadhar_nos.get_attribute('src')\n",
    "urllib.request.urlretrieve(value , \"check.png\")\n",
    "img = Image.open(\"check.png\")\n",
    "img"
   ]
  },
  {
   "cell_type": "markdown",
   "id": "3904fe09",
   "metadata": {},
   "source": [
    "# Enter Captcha"
   ]
  },
  {
   "cell_type": "code",
   "execution_count": 65,
   "id": "6787ffa8",
   "metadata": {},
   "outputs": [],
   "source": [
    "aadhar_no1.send_keys('BEMOSx')"
   ]
  },
  {
   "cell_type": "code",
   "execution_count": 66,
   "id": "f2db97d0",
   "metadata": {},
   "outputs": [],
   "source": [
    "aadhar_no2 = driver.find_element(by=By.CLASS_NAME, value = 'button_btn__1dRFj')\n",
    "aadhar_no2.click()"
   ]
  },
  {
   "cell_type": "markdown",
   "id": "e5724583",
   "metadata": {},
   "source": [
    "# Aadhar card exist or not"
   ]
  },
  {
   "cell_type": "code",
   "execution_count": 67,
   "id": "1031c403",
   "metadata": {},
   "outputs": [
    {
     "name": "stdout",
     "output_type": "stream",
     "text": [
      "861807950586 Exists\n"
     ]
    }
   ],
   "source": [
    "try:\n",
    "    checkss = driver.find_element(by=By.CLASS_NAME,value ='verify-aadhaar-response__cong')\n",
    "    print(checkss.text)\n",
    "except:\n",
    "    print(\"Aadhar is not Exists\")"
   ]
  },
  {
   "cell_type": "markdown",
   "id": "f51fa9c4",
   "metadata": {},
   "source": [
    "# Final XML "
   ]
  },
  {
   "cell_type": "code",
   "execution_count": 68,
   "id": "9ef61169",
   "metadata": {},
   "outputs": [
    {
     "name": "stdout",
     "output_type": "stream",
     "text": [
      "<?xml version=\"1.0\" encoding=\"utf-8\"?>\n",
      "<html id=\"html\" lang=\"en\"><head><meta charset=\"utf-8\"><link href=\"/favicon.ico\" rel=\"icon\"><meta content=\"width=device-width,initial-scale=1\" name=\"viewport\"><meta content=\"#000000\" name=\"theme-color\"><meta content=\"One portal for all online Aadhaar Services.\" name=\"description\"><link href=\"/resources/css/style.css\" rel=\"stylesheet\"><link href=\"https://fonts.gstatic.com\" rel=\"preconnect\"><link href=\"https://fonts.googleapis.com/css2?family=Roboto:ital,wght@0,100;0,300;0,400;0,500;0,700;0,900;1,100;1,300;1,400;1,500;1,700;1,900&amp;display=swap\" rel=\"stylesheet\"><link crossorigin=\"\" href=\"https://unpkg.com/leaflet@1.7.1/dist/leaflet.css\" integrity=\"sha512-xodZBNTC5n17Xt2atTPuE1HxjVMSvLVW9ocqUKLsCC5CXdbqCmblAshOMAS6/keqq/sMZMZ19scR4PsZChSR7A==\" rel=\"stylesheet\"><script crossorigin=\"\" integrity=\"sha512-XQoYMqMTK8LvdxXYG3nZ448hOEQiglfqkJs1NOQV44cWnUrBc8PkAOcXy20w0vlaXaVUearIOBhiXZ5V3ynxwA==\" src=\"https://unpkg.com/leaflet@1.7.1/dist/leaflet.js\"/><script src=\"/resources/js/script.js\"/><link href=\"/manifest.json\" rel=\"manifest\"><title>myAadhaar - Unique Identification Authority of India | Government of India</title><style>body{padding-right:0!important}</style><link href=\"/static/css/7.68b64559.chunk.css\" rel=\"stylesheet\"><link href=\"/static/css/main.a3fd30ef.chunk.css\" rel=\"stylesheet\"><script charset=\"utf-8\" src=\"/static/js/0.664cca5e.chunk.js\"/><link href=\"/static/css/16.95f8ce86.chunk.css\" rel=\"stylesheet\" type=\"text/css\"><script charset=\"utf-8\" src=\"/static/js/16.7adc3072.chunk.js\"/><style>.gradient-button-container {\n",
      "    display: inline-block;\n",
      "    height: 40px;\n",
      "    \n",
      "    \n",
      "}\n",
      "\n",
      ".gradient-button { \n",
      "    height: 100%;\n",
      "    width: 100%;\n",
      "    text-align: center;\n",
      "    outline: none;\n",
      "    transition: all 0.1s ease-in;\n",
      "    font-family: inherit;\n",
      "    cursor: pointer;\n",
      "}\n",
      "\n",
      ".filled{\n",
      "    border-radius: 5px;\n",
      "    border:none;\n",
      "    color: rgb(255, 255, 255);\n",
      "}\n",
      "\n",
      ".filled:enabled {\n",
      "    background-image: linear-gradient(to right, #020D51, #19B0DC);\n",
      "\n",
      "    /* box-shadow: 0 2px 4px 0 rgba(0, 0, 0, 0.404); */\n",
      "}\n",
      "\n",
      "/* .gradient-button:hover:enabled {\n",
      "    box-shadow: 0 4px 8px 0 rgba(0, 0, 0, 0.404);\n",
      "}\n",
      "\n",
      ".gradient-button:active:enabled {\n",
      "    box-shadow: 0 2px 6px 0 rgba(0, 0, 0, 0.404);;\n",
      "} */\n",
      "\n",
      ".filled:disabled {\n",
      "    background-color:#B5B1B1;\n",
      "}\n",
      "\n",
      ".not-filled{\n",
      "    border-radius: 5px;\n",
      "    border-image-slice: 1;\n",
      "    border : 3px solid transparent;\n",
      "\n",
      "    background-color: #FFFF;\n",
      "    color:#086396;\n",
      "\n",
      "}\n",
      "\n",
      ".not-filled:enabled{\n",
      "    background: \n",
      "     linear-gradient( #FFFF, #FFFF) padding-box, \n",
      "     linear-gradient(to right, #020D51, #19B0DC) border-box;\n",
      "    }\n",
      "\n",
      ".not-filled:disabled{\n",
      "    border-color: #B5B1B1 ;\n",
      "    color:#B5B1B1;\n",
      "}\n",
      "</style><style>\n",
      "label {\n",
      "    -webkit-perspective: 1000px;\n",
      "    perspective: 1000px;\n",
      "    -webkit-transform-style: preserve-3d;\n",
      "    transform-style: preserve-3d;\n",
      "  }\n",
      "  \n",
      "  .card {\n",
      "    position: relative;\n",
      "    height: 100%;\n",
      "    width: 100%;\n",
      "    -webkit-transform-style: preserve-3d;\n",
      "    transform-style: preserve-3d;\n",
      "    -webkit-transition: all 600ms;\n",
      "    transition: all 600ms;\n",
      "    z-index: 20;\n",
      "  }\n",
      "  \n",
      "  .card div {\n",
      "    position: absolute;\n",
      "    height: 100%;\n",
      "    width: 100%;\n",
      "    left: 0%;\n",
      "    top: 0%;\n",
      "    text-align: center;\n",
      "    line-height: 200px;\n",
      "    -webkit-backface-visibility: hidden;\n",
      "    backface-visibility: hidden;\n",
      "    border-radius: 2px;\n",
      "  }\n",
      "  \n",
      "  .card .back {\n",
      "    -webkit-transform: rotateY(180deg);\n",
      "    transform: rotateY(180deg);\n",
      "  }\n",
      "  \n",
      "  input {\n",
      "    display: none;\n",
      "  }\n",
      "  \n",
      "  :checked + .card {\n",
      "    transform: rotateY(180deg);\n",
      "    -webkit-transform: rotateY(180deg);\n",
      "  }</style><style>date-input-polyfill{width:auto;min-width:260px;height:auto;background-color:#fff;-webkit-box-shadow:0px 0px 5px 2px rgba(128,128,128,.81);-moz-box-shadow:0px 0px 5px 2px rgba(128,128,128,.81);box-shadow:0px 0px 5px 2px rgba(128,128,128,.81);position:absolute;font-family:Arial;font-size:16px;color:#000}date-input-polyfill .date-select-header{position:relative;width:100%;height:40px;background-color:#fff;text-align:center;line-height:40px}date-input-polyfill .date-select-header .date-header-button{padding:5px 25px 5px 5px;border:solid 1px #a8a3a3;background-color:#fff;min-width:150px;width:auto;max-width:180px;height:28px;border-radius:5px;cursor:pointer;position:relative;line-height:15px;font-size:13px}date-input-polyfill .date-select-header .date-header-button-active:after{content:\"</style></link></link></link></link></link></link></link></link></meta></meta></meta></link></meta></head></html>\n"
     ]
    }
   ],
   "source": [
    "from bs4 import BeautifulSoup\n",
    "html  = driver.page_source\n",
    "soup = BeautifulSoup(html, 'xml')\n",
    "print(soup)\n",
    "driver.close()"
   ]
  },
  {
   "cell_type": "code",
   "execution_count": null,
   "id": "96f91863",
   "metadata": {},
   "outputs": [],
   "source": []
  }
 ],
 "metadata": {
  "kernelspec": {
   "display_name": "Python 3 (ipykernel)",
   "language": "python",
   "name": "python3"
  },
  "language_info": {
   "codemirror_mode": {
    "name": "ipython",
    "version": 3
   },
   "file_extension": ".py",
   "mimetype": "text/x-python",
   "name": "python",
   "nbconvert_exporter": "python",
   "pygments_lexer": "ipython3",
   "version": "3.9.7"
  }
 },
 "nbformat": 4,
 "nbformat_minor": 5
}
